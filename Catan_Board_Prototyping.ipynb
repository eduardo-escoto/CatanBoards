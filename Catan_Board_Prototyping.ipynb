{
 "cells": [
  {
   "cell_type": "markdown",
   "metadata": {},
   "source": [
    "# Catan Board Prototyping"
   ]
  },
  {
   "cell_type": "code",
   "execution_count": 14,
   "metadata": {},
   "outputs": [],
   "source": [
    "import numpy as np\n",
    "import pandas as pd\n",
    "import matplotlib.pyplot as plt\n",
    "import networkx as nx"
   ]
  },
  {
   "cell_type": "markdown",
   "metadata": {},
   "source": [
    "Notes: Best bet is to build a wrapper object around a NetworkX Graph. This is due to the flexibility and work in already optimizing adding and creation of the edges."
   ]
  },
  {
   "cell_type": "code",
   "execution_count": 39,
   "metadata": {},
   "outputs": [],
   "source": [
    "class CatanBoard():\n",
    "    tile_dict = {\n",
    "        'Stone': 3,\n",
    "        'Wheat': 3,\n",
    "        'Sheep': 3,\n",
    "        'Wood': 3,\n",
    "        'Brick': 3,\n",
    "        'Desert': 1\n",
    "    }\n",
    "    dice_number_dict = {\n",
    "\n",
    "    }\n",
    "    port_dict = {\n",
    "        'defaults': {\n",
    "\n",
    "        },\n",
    "        'replacements': {\n",
    "\n",
    "        }\n",
    "    }\n",
    "\n",
    "    def __init__(self):\n",
    "        self.board = self.create_board()\n",
    "\n",
    "    def __str__(self):\n",
    "        pass\n",
    "\n",
    "    def __repr__(self):\n",
    "        return self.__str__()\n",
    "\n",
    "    def randomize_board(self) -> nx.Graph:\n",
    "        pass\n",
    "\n",
    "    def create_board(self) -> nx.Graph:\n",
    "        pass\n",
    "\n",
    "    def create_board_scaffolding(self) -> nx.Graph:\n",
    "        pass\n",
    "\n",
    "    def populate_tiles(self) -> nx.Graph:\n",
    "        pass\n",
    "\n",
    "    def populate_dice_nums(self) -> nx.Graph:\n",
    "        pass\n",
    "\n",
    "    def populate_ports(self) -> nx.Graph:\n",
    "        pass\n"
   ]
  },
  {
   "cell_type": "code",
   "execution_count": 36,
   "metadata": {},
   "outputs": [
    {
     "name": "stdout",
     "output_type": "stream",
     "text": [
      "[0, 1, 2, 3, 4, 5, 6, 7, 8, 9, 10, 11, 12, 13, 14, 15, 16]\n"
     ]
    }
   ],
   "source": [
    "print(CatanBoard())"
   ]
  },
  {
   "cell_type": "code",
   "execution_count": 44,
   "metadata": {},
   "outputs": [
    {
     "name": "stdout",
     "output_type": "stream",
     "text": [
      "[(None, 1), (None, 2), (None, 3), (None, 4), (None, 5), (None, 6), (None, 7), (None, 8), (None, 9)]\n"
     ]
    }
   ],
   "source": [
    "port_nodes = [ (None, i) for i in np.arange(1,10)]\n",
    "print(port_nodes)"
   ]
  },
  {
   "cell_type": "code",
   "execution_count": 52,
   "metadata": {},
   "outputs": [
    {
     "data": {
      "text/plain": [
       "[(1, 1),\n",
       " (1, 2),\n",
       " (1, 3),\n",
       " (2, 1),\n",
       " (2, 2),\n",
       " (2, 3),\n",
       " (2, 4),\n",
       " (3, 1),\n",
       " (3, 2),\n",
       " (3, 3),\n",
       " (3, 4),\n",
       " (3, 5),\n",
       " (4, 1),\n",
       " (4, 2),\n",
       " (4, 3),\n",
       " (4, 4),\n",
       " (5, 1),\n",
       " (5, 2),\n",
       " (5, 3)]"
      ]
     },
     "execution_count": 52,
     "metadata": {},
     "output_type": "execute_result"
    }
   ],
   "source": [
    "column_dict = dict(list(zip(np.arange(1, 6), [3+1, 4+1, 5+1, 4+1, 3+1])))\n",
    "tile_nodes = sum([[(i, j) for j in np.arange(\n",
    "    1, column_dict[i])] for i in np.arange(1, 6)], [])\n",
    "tile_nodes\n"
   ]
  },
  {
   "cell_type": "code",
   "execution_count": 54,
   "metadata": {},
   "outputs": [
    {
     "name": "stdout",
     "output_type": "stream",
     "text": [
      "None\n"
     ]
    }
   ],
   "source": [
    "print(nx.Graph().add_nodes_from(tile_nodes))"
   ]
  }
 ],
 "metadata": {
  "interpreter": {
   "hash": "607c7004ca799c17fee41c51b3285ec66d47e453757b7c6775e24420cc13dfea"
  },
  "kernelspec": {
   "display_name": "Python 3.10.1 64-bit ('3.10.1')",
   "language": "python",
   "name": "python3"
  },
  "language_info": {
   "codemirror_mode": {
    "name": "ipython",
    "version": 3
   },
   "file_extension": ".py",
   "mimetype": "text/x-python",
   "name": "python",
   "nbconvert_exporter": "python",
   "pygments_lexer": "ipython3",
   "version": "3.10.1"
  },
  "orig_nbformat": 4
 },
 "nbformat": 4,
 "nbformat_minor": 2
}
