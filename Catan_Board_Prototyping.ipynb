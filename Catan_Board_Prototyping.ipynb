{
 "cells": [
  {
   "cell_type": "markdown",
   "metadata": {},
   "source": [
    "# Catan Board Prototyping"
   ]
  },
  {
   "cell_type": "code",
   "execution_count": 14,
   "metadata": {},
   "outputs": [],
   "source": [
    "import numpy as np\n",
    "import pandas as pd\n",
    "import matplotlib.pyplot as plt\n",
    "import networkx as nx"
   ]
  },
  {
   "cell_type": "markdown",
   "metadata": {},
   "source": [
    "Notes: Best bet is to build a wrapper object around a NetworkX Graph. This is due to the flexibility and work in already optimizing adding and creation of the edges."
   ]
  },
  {
   "cell_type": "code",
   "execution_count": 35,
   "metadata": {},
   "outputs": [],
   "source": [
    "class CatanBoard():\n",
    "    def __init__(self):\n",
    "        self.board = nx.random_lobster(10, .5, .2)\n",
    "\n",
    "    def __str__(self):\n",
    "        return self.board.nodes().__str__()\n",
    "\n",
    "    def __repr__(self):\n",
    "        return self.__str__()\n",
    "\n",
    "    def randomize_board(self):\n",
    "        pass\n",
    "\n",
    "    def create_board(self):\n",
    "        pass\n",
    "\n",
    "    def create_board_scaffolding(self):\n",
    "        pass\n",
    "\n",
    "    def populate_tiles(self):\n",
    "        pass\n",
    "\n",
    "    def populate_dice_nums(self):\n",
    "        pass\n",
    "\n",
    "    def populate_ports(self):\n",
    "        pass\n"
   ]
  },
  {
   "cell_type": "code",
   "execution_count": 36,
   "metadata": {},
   "outputs": [
    {
     "name": "stdout",
     "output_type": "stream",
     "text": [
      "[0, 1, 2, 3, 4, 5, 6, 7, 8, 9, 10, 11, 12, 13, 14, 15, 16]\n"
     ]
    }
   ],
   "source": [
    "print(CatanBoard())"
   ]
  }
 ],
 "metadata": {
  "interpreter": {
   "hash": "607c7004ca799c17fee41c51b3285ec66d47e453757b7c6775e24420cc13dfea"
  },
  "kernelspec": {
   "display_name": "Python 3.10.1 64-bit ('3.10.1')",
   "language": "python",
   "name": "python3"
  },
  "language_info": {
   "codemirror_mode": {
    "name": "ipython",
    "version": 3
   },
   "file_extension": ".py",
   "mimetype": "text/x-python",
   "name": "python",
   "nbconvert_exporter": "python",
   "pygments_lexer": "ipython3",
   "version": "3.10.1"
  },
  "orig_nbformat": 4
 },
 "nbformat": 4,
 "nbformat_minor": 2
}
