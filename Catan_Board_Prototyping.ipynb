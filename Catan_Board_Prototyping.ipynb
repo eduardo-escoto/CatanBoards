{
 "cells": [
  {
   "cell_type": "markdown",
   "metadata": {},
   "source": [
    "# Catan Board Prototyping"
   ]
  },
  {
   "cell_type": "code",
   "execution_count": 2,
   "metadata": {},
   "outputs": [],
   "source": [
    "import numpy as np\n",
    "import pandas as pd\n",
    "import matplotlib.pyplot as plt\n",
    "import networkx as nx"
   ]
  },
  {
   "cell_type": "markdown",
   "metadata": {},
   "source": [
    "Notes: Best bet is to build a wrapper object around a NetworkX Graph. This is due to the flexibility and work in already optimizing adding and creation of the edges."
   ]
  },
  {
   "cell_type": "code",
   "execution_count": 3,
   "metadata": {},
   "outputs": [],
   "source": [
    "class CatanBoard():\n",
    "    tile_dict = {\n",
    "        'Stone': 3,\n",
    "        'Wheat': 3,\n",
    "        'Sheep': 3,\n",
    "        'Wood': 3,\n",
    "        'Brick': 3,\n",
    "        'Desert': 1\n",
    "    }\n",
    "    dice_number_dict = {\n",
    "\n",
    "    }\n",
    "    port_dict = {\n",
    "        'defaults': {\n",
    "\n",
    "        },\n",
    "        'replacements': {\n",
    "\n",
    "        }\n",
    "    }\n",
    "\n",
    "    def __init__(self):\n",
    "        self.board = self.create_board()\n",
    "\n",
    "    def __str__(self):\n",
    "        return \"2\"\n",
    "\n",
    "    def __repr__(self):\n",
    "        return self.__str__()\n",
    "\n",
    "    def randomize_board(self) -> nx.Graph:\n",
    "        pass\n",
    "\n",
    "    def create_board(self) -> nx.Graph:\n",
    "        pass\n",
    "\n",
    "    def create_board_scaffolding(self) -> nx.Graph:\n",
    "        pass\n",
    "\n",
    "    def populate_tiles(self) -> nx.Graph:\n",
    "        pass\n",
    "\n",
    "    def populate_dice_nums(self) -> nx.Graph:\n",
    "        pass\n",
    "\n",
    "    def populate_ports(self) -> nx.Graph:\n",
    "        pass\n"
   ]
  },
  {
   "cell_type": "code",
   "execution_count": 4,
   "metadata": {
    "scrolled": true
   },
   "outputs": [
    {
     "name": "stdout",
     "output_type": "stream",
     "text": [
      "hi\n",
      "2\n"
     ]
    }
   ],
   "source": [
    "print(CatanBoard())"
   ]
  },
  {
   "cell_type": "code",
   "execution_count": 9,
   "metadata": {},
   "outputs": [
    {
     "name": "stdout",
     "output_type": "stream",
     "text": [
      "hi\n"
     ]
    }
   ],
   "source": [
    "board = CatanBoard()"
   ]
  },
  {
   "cell_type": "code",
   "execution_count": 5,
   "metadata": {},
   "outputs": [
    {
     "name": "stdout",
     "output_type": "stream",
     "text": [
      "[(None, 1), (None, 2), (None, 3), (None, 4), (None, 5), (None, 6), (None, 7), (None, 8), (None, 9)]\n"
     ]
    }
   ],
   "source": [
    "port_nodes = [ (None, i) for i in np.arange(1,10)]\n",
    "print(port_nodes)"
   ]
  },
  {
   "cell_type": "code",
   "execution_count": 6,
   "metadata": {},
   "outputs": [
    {
     "data": {
      "text/plain": [
       "[(1, 1),\n",
       " (1, 2),\n",
       " (1, 3),\n",
       " (2, 1),\n",
       " (2, 2),\n",
       " (2, 3),\n",
       " (2, 4),\n",
       " (3, 1),\n",
       " (3, 2),\n",
       " (3, 3),\n",
       " (3, 4),\n",
       " (3, 5),\n",
       " (4, 1),\n",
       " (4, 2),\n",
       " (4, 3),\n",
       " (4, 4),\n",
       " (5, 1),\n",
       " (5, 2),\n",
       " (5, 3)]"
      ]
     },
     "execution_count": 6,
     "metadata": {},
     "output_type": "execute_result"
    }
   ],
   "source": [
    "column_dict = dict(list(zip(np.arange(1, 6), [3+1, 4+1, 5+1, 4+1, 3+1])))\n",
    "tile_nodes = sum([[(i, j) for j in np.arange(\n",
    "    1, column_dict[i])] for i in np.arange(1, 6)], [])\n",
    "tile_nodes\n"
   ]
  },
  {
   "cell_type": "code",
   "execution_count": 7,
   "metadata": {},
   "outputs": [
    {
     "data": {
      "text/plain": [
       "[[(1, 1), (1, 2), (1, 3)],\n",
       " [(2, 1), (2, 2), (2, 3), (2, 4)],\n",
       " [(3, 1), (3, 2), (3, 3), (3, 4), (3, 5)],\n",
       " [(4, 1), (4, 2), (4, 3), (4, 4)],\n",
       " [(5, 1), (5, 2), (5, 3)]]"
      ]
     },
     "execution_count": 7,
     "metadata": {},
     "output_type": "execute_result"
    }
   ],
   "source": [
    "[[(i, j) for j in np.arange(\n",
    "    1, column_dict[i])] for i in np.arange(1, 6)]"
   ]
  },
  {
   "cell_type": "code",
   "execution_count": 15,
   "metadata": {},
   "outputs": [
    {
     "data": {
      "text/plain": [
       "19"
      ]
     },
     "execution_count": 15,
     "metadata": {},
     "output_type": "execute_result"
    }
   ],
   "source": [
    "scaffolding = nx.Graph()\n",
    "scaffolding.add_nodes_from(tile_nodes)\n",
    "scaffolding.number_of_nodes()"
   ]
  },
  {
   "cell_type": "code",
   "execution_count": 18,
   "metadata": {},
   "outputs": [
    {
     "data": {
      "text/plain": [
       "1"
      ]
     },
     "execution_count": 18,
     "metadata": {},
     "output_type": "execute_result"
    }
   ],
   "source": [
    "scaffolding.add_edge((1, 1),(1, 2))\n",
    "scaffolding.add_edge((1, 2),(1, 1))\n",
    "scaffolding.number_of_edges()"
   ]
  },
  {
   "cell_type": "code",
   "execution_count": 34,
   "metadata": {
    "scrolled": true
   },
   "outputs": [
    {
     "name": "stdout",
     "output_type": "stream",
     "text": [
      "Row: 1 Column: 1\n",
      "Row: 1 Column: 2\n",
      "Row: 1 Column: 3\n",
      "Row: 2 Column: 1\n",
      "Row: 2 Column: 2\n",
      "Row: 2 Column: 3\n",
      "Row: 2 Column: 4\n",
      "Row: 3 Column: 1\n",
      "Row: 3 Column: 2\n",
      "Row: 3 Column: 3\n",
      "Row: 3 Column: 4\n",
      "Row: 3 Column: 5\n",
      "Row: 4 Column: 1\n",
      "Row: 4 Column: 2\n",
      "Row: 4 Column: 3\n",
      "Row: 4 Column: 4\n",
      "Row: 5 Column: 1\n",
      "Row: 5 Column: 2\n",
      "Row: 5 Column: 3\n"
     ]
    }
   ],
   "source": [
    "for row in tile_nodes:\n",
    "    print(\"Row: \" +str(row[0]) + \" Column: \" + str(row[1]))"
   ]
  },
  {
   "cell_type": "code",
   "execution_count": 78,
   "metadata": {},
   "outputs": [
    {
     "name": "stdout",
     "output_type": "stream",
     "text": [
      "Tile: (1, 1) P1: 1\n",
      "Tile: (1, 1) P2: 3\n",
      "Tile: (1, 1) P3: 4\n",
      "Tile: (1, 2) P1: 2\n",
      "Tile: (1, 2) P2: 4\n",
      "Tile: (1, 2) P3: 5\n",
      "Tile: (1, 3) P1: None\n",
      "Tile: (1, 3) P2: 5\n",
      "Tile: (1, 3) P3: 6\n",
      "Tile: (2, 1) P1: 4\n",
      "Tile: (2, 1) P2: 7\n",
      "Tile: (2, 1) P3: 8\n",
      "Tile: (2, 2) P1: 5\n",
      "Tile: (2, 2) P2: 8\n",
      "Tile: (2, 2) P3: 9\n",
      "Tile: (2, 3) P1: 6\n",
      "Tile: (2, 3) P2: 9\n",
      "Tile: (2, 3) P3: 10\n",
      "Tile: (2, 4) P1: None\n",
      "Tile: (2, 4) P2: 10\n",
      "Tile: (2, 4) P3: 11\n",
      "Tile: (3, 1) P1: 8\n",
      "Tile: (3, 1) P2: None\n",
      "Tile: (3, 1) P3: 12\n",
      "Tile: (3, 2) P1: 9\n",
      "Tile: (3, 2) P2: 12\n",
      "Tile: (3, 2) P3: 13\n",
      "Tile: (3, 3) P1: 10\n",
      "Tile: (3, 3) P2: 13\n",
      "Tile: (3, 3) P3: 14\n",
      "Tile: (3, 4) P1: 11\n",
      "Tile: (3, 4) P2: 14\n",
      "Tile: (3, 4) P3: 15\n",
      "Tile: (3, 5) P1: None\n",
      "Tile: (3, 5) P2: 15\n",
      "Tile: (3, 5) P3: None\n",
      "Tile: (4, 1) P1: 13\n",
      "Tile: (4, 1) P2: None\n",
      "Tile: (4, 1) P3: 16\n",
      "Tile: (4, 2) P1: 14\n",
      "Tile: (4, 2) P2: 16\n",
      "Tile: (4, 2) P3: 17\n",
      "Tile: (4, 3) P1: 15\n",
      "Tile: (4, 3) P2: 17\n",
      "Tile: (4, 3) P3: 18\n",
      "Tile: (4, 4) P1: None\n",
      "Tile: (4, 4) P2: 18\n",
      "Tile: (4, 4) P3: None\n",
      "Tile: (5, 1) P1: 17\n",
      "Tile: (5, 1) P2: None\n",
      "Tile: (5, 1) P3: None\n",
      "Tile: (5, 2) P1: 18\n",
      "Tile: (5, 2) P2: None\n",
      "Tile: (5, 2) P3: None\n",
      "Tile: (5, 3) P1: None\n",
      "Tile: (5, 3) P2: None\n",
      "Tile: (5, 3) P3: None\n"
     ]
    }
   ],
   "source": [
    "#Works, but so ugly. O(n) is trash too, optimize for future. use this for now\n",
    "def search(list, value):\n",
    "    for i in range(len(list)):\n",
    "        if list[i] == value:\n",
    "            return list.index(value);\n",
    "    return None;\n",
    "\n",
    "for tiles in tile_nodes:\n",
    "    print(f\"Tile: {tiles} P1: {search(tile_nodes, (tiles[0], tiles[1]+1))}\")\n",
    "    if tiles[0] < 3:\n",
    "        print(f\"Tile: {tiles} P2: {search(tile_nodes, (tiles[0]+1, tiles[1]))}\")\n",
    "        print(f\"Tile: {tiles} P3: {search(tile_nodes, (tiles[0]+1, tiles[1]+1))}\")\n",
    "    else:\n",
    "        print(f\"Tile: {tiles} P2: {search(tile_nodes, (tiles[0]+1, tiles[1]-1))}\")\n",
    "        print(f\"Tile: {tiles} P3: {search(tile_nodes, (tiles[0]+1, tiles[1]))}\")\n",
    "        "
   ]
  },
  {
   "cell_type": "code",
   "execution_count": null,
   "metadata": {},
   "outputs": [],
   "source": []
  }
 ],
 "metadata": {
  "interpreter": {
   "hash": "607c7004ca799c17fee41c51b3285ec66d47e453757b7c6775e24420cc13dfea"
  },
  "kernelspec": {
   "display_name": "Python 3 (ipykernel)",
   "language": "python",
   "name": "python3"
  },
  "language_info": {
   "codemirror_mode": {
    "name": "ipython",
    "version": 3
   },
   "file_extension": ".py",
   "mimetype": "text/x-python",
   "name": "python",
   "nbconvert_exporter": "python",
   "pygments_lexer": "ipython3",
   "version": "3.10.1"
  }
 },
 "nbformat": 4,
 "nbformat_minor": 2
}
